import pandas as pd
import numpy as np
import matplotlib.pyplot as plt
import seaborn as sns
customers = pd.read_csv('Customers.csv')
products = pd.read_csv('Products.csv')
transactions = pd.read_csv('Transactions.csv')
customers['SignupDate'] = pd.to_datetime(customers['SignupDate'])
transactions['TransactionDate'] = pd.to_datetime(transactions['TransactionDate'])
print(customers.isnull().sum())
print(products.isnull().sum())
print(transactions.isnull().sum())
sns.countplot(data=customers, x='Region')
plt.title('Customer Distribution by Region')
plt.show()
sns.histplot(data=products, x='Price', bins=20, kde=True)
plt.title('Product Price Distribution')
plt.show()
transactions.groupby('TransactionDate').size().plot(kind='line')
plt.title('Transaction Volume Over Time')
plt.xlabel('Date')
plt.ylabel('Number of Transactions')
plt.show()
