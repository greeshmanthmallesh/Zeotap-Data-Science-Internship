{
 "cells": [
  {
   "cell_type": "code",
   "execution_count": 8,
   "id": "bd5de11f",
   "metadata": {},
   "outputs": [
    {
     "name": "stdout",
     "output_type": "stream",
     "text": [
      "Lookalike.csv created successfully!\n"
     ]
    }
   ],
   "source": [
    "from sklearn.metrics.pairwise import cosine_similarity\n",
    "from sklearn.preprocessing import StandardScaler\n",
    "\n",
    "customer_transactions = transactions.groupby('CustomerID').agg({\n",
    "    'TotalValue': 'sum',\n",
    "    'TransactionID': 'count'\n",
    "}).rename(columns={'TotalValue': 'TotalSpent', 'TransactionID': 'TotalTransactions'})\n",
    "\n",
    "customer_profile = customers.set_index('CustomerID').join(customer_transactions)\n",
    "customer_profile.fillna(0, inplace=True)\n",
    "\n",
    "scaler = StandardScaler()\n",
    "customer_features = scaler.fit_transform(customer_profile[['TotalSpent', 'TotalTransactions']])\n",
    "\n",
    "similarity_matrix = cosine_similarity(customer_features)\n",
    "similarity_df = pd.DataFrame(similarity_matrix, index=customer_profile.index, columns=customer_profile.index)\n",
    "\n",
    "lookalikes = {}\n",
    "for customer in similarity_df.index[:20]:\n",
    "    similar_customers = similarity_df[customer].sort_values(ascending=False)[1:4]\n",
    "    lookalikes[customer] = [(sim_id, score) for sim_id, score in similar_customers.items()]\n",
    "\n",
    "lookalike_data = []\n",
    "for customer, similar_customers in lookalikes.items():\n",
    "    entry = {\n",
    "        \"cust_id\": customer,\n",
    "        \"lookalikes\": [{\"id\": sim_id, \"score\": score} for sim_id, score in similar_customers]\n",
    "    }\n",
    "    lookalike_data.append(entry)\n",
    "\n",
    "lookalike_df = pd.DataFrame(lookalike_data)\n",
    "lookalike_df.to_csv('Lookalike.csv', index=False)\n",
    "\n",
    "print(\"Lookalike.csv created successfully!\")\n"
   ]
  },
  {
   "cell_type": "code",
   "execution_count": 9,
   "id": "e69e13bb",
   "metadata": {},
   "outputs": [],
   "source": [
    "lookalike_df.to_csv('Greeshmanth_Muppana_Lookalike.csv', index=False)"
   ]
  }
 ],
 "metadata": {
  "kernelspec": {
   "display_name": "Python 3 (ipykernel)",
   "language": "python",
   "name": "python3"
  },
  "language_info": {
   "codemirror_mode": {
    "name": "ipython",
    "version": 3
   },
   "file_extension": ".py",
   "mimetype": "text/x-python",
   "name": "python",
   "nbconvert_exporter": "python",
   "pygments_lexer": "ipython3",
   "version": "3.11.4"
  }
 },
 "nbformat": 4,
 "nbformat_minor": 5
}
